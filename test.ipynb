{
 "cells": [
  {
   "cell_type": "code",
   "execution_count": 2,
   "metadata": {},
   "outputs": [],
   "source": [
    "import numpy as np"
   ]
  },
  {
   "cell_type": "code",
   "execution_count": 3,
   "metadata": {},
   "outputs": [],
   "source": [
    "c2w = [[\n",
    "        0.9803617000579834,\n",
    "        -0.08363274484872818,\n",
    "        0.17859646677970886,\n",
    "        0.7199454307556152\n",
    "                ],\n",
    "                [\n",
    "                    0.19720838963985443,\n",
    "                    0.4157548248767853,\n",
    "                    -0.8878381848335266,\n",
    "                    -3.5789904594421387\n",
    "                ],\n",
    "                [\n",
    "                    0.0,\n",
    "                    0.9056232571601868,\n",
    "                    0.4240831136703491,\n",
    "                    1.7095338106155396\n",
    "                ],\n",
    "                [\n",
    "                    0.0,\n",
    "                    0.0,\n",
    "                    0.0,\n",
    "                    1.0\n",
    "                ]]"
   ]
  },
  {
   "cell_type": "code",
   "execution_count": 8,
   "metadata": {},
   "outputs": [],
   "source": [
    "c2w = np.array(c2w)\n",
    "w2c = np.linalg.inv(c2w)"
   ]
  },
  {
   "cell_type": "code",
   "execution_count": 9,
   "metadata": {},
   "outputs": [
    {
     "data": {
      "text/plain": [
       "(array([0.01571393, 0.02604699, 0.00660765, 1.        ]),\n",
       " array([-4.83938440e-08, -3.90884818e+00, -4.88019146e+00,  1.00000000e+00]))"
      ]
     },
     "execution_count": 9,
     "metadata": {},
     "output_type": "execute_result"
    }
   ],
   "source": [
    "o = np.array([0,0,-4,1])\n",
    "c2w@o, w2c@o"
   ]
  },
  {
   "cell_type": "code",
   "execution_count": 7,
   "metadata": {},
   "outputs": [],
   "source": [
    "c2w = [\n",
    "                [\n",
    "                    -0.8562462329864502,\n",
    "                    -0.10964957624673843,\n",
    "                    0.5047964453697205,\n",
    "                    2.0348997116088867\n",
    "                ],\n",
    "                [\n",
    "                    0.5165680646896362,\n",
    "                    -0.18175151944160461,\n",
    "                    0.8367339372634888,\n",
    "                    3.3729827404022217\n",
    "                ],\n",
    "                [\n",
    "                    0.0,\n",
    "                    0.9772120118141174,\n",
    "                    0.2122654765844345,\n",
    "                    0.8556695580482483\n",
    "                ],\n",
    "                [\n",
    "                    0.0,\n",
    "                    0.0,\n",
    "                    0.0,\n",
    "                    1.0\n",
    "                ]\n",
    "            ]"
   ]
  }
 ],
 "metadata": {
  "interpreter": {
   "hash": "51b5354231eb298a8d51fcbaeb8d72d645ce449dbe2359046d3ef43f1493eda6"
  },
  "kernelspec": {
   "display_name": "Python 3.9.7 ('nerf')",
   "language": "python",
   "name": "python3"
  },
  "language_info": {
   "codemirror_mode": {
    "name": "ipython",
    "version": 3
   },
   "file_extension": ".py",
   "mimetype": "text/x-python",
   "name": "python",
   "nbconvert_exporter": "python",
   "pygments_lexer": "ipython3",
   "version": "3.9.7"
  },
  "orig_nbformat": 4
 },
 "nbformat": 4,
 "nbformat_minor": 2
}
